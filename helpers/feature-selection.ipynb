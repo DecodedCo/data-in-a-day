{
 "cells": [
  {
   "cell_type": "code",
   "execution_count": 8,
   "metadata": {},
   "outputs": [],
   "source": [
    "features = pd.get_dummies(df.drop(['class','odor','gill-attachment',\n",
    "                                  'gill-spacing','stalk-shape','stalk-root','stalk-surface-above-ring',\n",
    "                                 'stalk-surface-below-ring','population','gill-size','habitat','bruises','spore-print-color'],axis=1))\n",
    "model = tree.DecisionTreeClassifier()\n",
    "model.fit(features,classes)\n",
    "plotTree()"
   ]
  },
  {
   "cell_type": "code",
   "execution_count": null,
   "metadata": {},
   "outputs": [],
   "source": []
  }
 ],
 "metadata": {
  "kernelspec": {
   "display_name": "Python 3",
   "language": "python",
   "name": "python3"
  },
  "language_info": {
   "codemirror_mode": {
    "name": "ipython",
    "version": 3
   },
   "file_extension": ".py",
   "mimetype": "text/x-python",
   "name": "python",
   "nbconvert_exporter": "python",
   "pygments_lexer": "ipython3",
   "version": "3.6.1"
  }
 },
 "nbformat": 4,
 "nbformat_minor": 2
}
