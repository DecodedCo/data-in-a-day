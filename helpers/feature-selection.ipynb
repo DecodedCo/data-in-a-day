{
 "cells": [
  {
   "cell_type": "code",
   "execution_count": 8,
   "metadata": {},
   "outputs": [],
   "source": [
    "one_hot = pd.get_dummies(df.drop(['class','odor','gill-attachment',\n",
    "                                  'gill-spacing','stalk-shape','stalk-root','stalk-surface-above-ring',\n",
    "                                 'stalk-surface-below-ring','population','gill-size','habitat','bruises','spore-print-color'],axis=1))\n",
    "model = tree.DecisionTreeClassifier()\n",
    "model.fit(one_hot,classes)\n",
    "dot_data = tree.export_graphviz(model, \n",
    "                                out_file=None, \n",
    "                                feature_names=one_hot.columns,\n",
    "                                filled=True, \n",
    "                                rounded=True,  \n",
    "                                class_names=[\"e\",\"p\"],\n",
    "                                special_characters=True)\n",
    "graph = graphviz.Source(dot_data)\n",
    "graph "
   ]
  },
  {
   "cell_type": "code",
   "execution_count": null,
   "metadata": {},
   "outputs": [],
   "source": []
  }
 ],
 "metadata": {
  "kernelspec": {
   "display_name": "Python 3",
   "language": "python",
   "name": "python3"
  },
  "language_info": {
   "codemirror_mode": {
    "name": "ipython",
    "version": 3
   },
   "file_extension": ".py",
   "mimetype": "text/x-python",
   "name": "python",
   "nbconvert_exporter": "python",
   "pygments_lexer": "ipython3",
   "version": "3.6.1"
  }
 },
 "nbformat": 4,
 "nbformat_minor": 2
}
