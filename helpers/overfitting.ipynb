{
 "cells": [
  {
   "cell_type": "code",
   "execution_count": null,
   "metadata": {},
   "outputs": [],
   "source": [
    "# http://scikit-learn.org/stable/modules/cross_validation.html#computing-cross-validated-metrics\n",
    "from sklearn.model_selection import cross_val_score\n",
    "\n",
    "train_test = cross_val_score(model, one_hot, classes)\n",
    "print('Score for 3 splits of the data (1/3 test)',train_test)\n",
    "print('Average score', train_test.mean())"
   ]
  },
  {
   "cell_type": "code",
   "execution_count": null,
   "metadata": {},
   "outputs": [],
   "source": [
    "# http://scikit-learn.org/stable/modules/generated/sklearn.model_selection.GridSearchCV.html\n",
    "from sklearn.model_selection import GridSearchCV\n",
    "\n",
    "parameters = {'max_depth':range(2,20)}\n",
    "modelSearch = GridSearchCV(tree.DecisionTreeClassifier(), parameters, n_jobs=4)\n",
    "modelSearch.fit(one_hot, classes)\n",
    "tree_model = modelSearch.best_estimator_\n",
    "print (modelSearch.best_score_, modelSearch.best_params_) \n",
    "\n",
    "model = tree.DecisionTreeClassifier(max_depth=modelSearch.best_params_[\"max_depth\"])\n",
    "model.fit(one_hot,classes)\n",
    "dot_data = tree.export_graphviz(model, \n",
    "                                out_file=None, \n",
    "                                feature_names=one_hot.columns,\n",
    "                                filled=True, \n",
    "                                rounded=True,  \n",
    "                                class_names=[\"e\",\"p\"],\n",
    "                                special_characters=True)\n",
    "graph = graphviz.Source(dot_data)\n",
    "graph "
   ]
  }
 ],
 "metadata": {
  "kernelspec": {
   "display_name": "Python 3",
   "language": "python",
   "name": "python3"
  },
  "language_info": {
   "codemirror_mode": {
    "name": "ipython",
    "version": 3
   },
   "file_extension": ".py",
   "mimetype": "text/x-python",
   "name": "python",
   "nbconvert_exporter": "python",
   "pygments_lexer": "ipython3",
   "version": "3.6.1"
  }
 },
 "nbformat": 4,
 "nbformat_minor": 2
}
