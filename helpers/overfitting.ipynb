{
 "cells": [
  {
   "cell_type": "code",
   "execution_count": null,
   "metadata": {},
   "outputs": [],
   "source": [
    "from sklearn.model_selection import cross_val_score\n",
    "\n",
    "train_test = cross_val_score(model, features, classes)\n",
    "print('Score for 3 splits of the data (1/3 test)',train_test)\n",
    "print('Average score', train_test.mean())"
   ]
  },
  {
   "cell_type": "code",
   "execution_count": null,
   "metadata": {},
   "outputs": [],
   "source": [
    "from sklearn.model_selection import GridSearchCV\n",
    "\n",
    "parameters = {'max_depth':range(2,20)}\n",
    "\n",
    "modelSearch = GridSearchCV(tree.DecisionTreeClassifier(), parameters, n_jobs=4)\n",
    "\n",
    "modelSearch.fit(features, classes)\n",
    "\n",
    "tree_model = modelSearch.best_estimator_\n",
    "\n",
    "print(modelSearch.best_score_, modelSearch.best_params_) \n",
    "\n",
    "model = tree.DecisionTreeClassifier(max_depth=modelSearch.best_params_[\"max_depth\"])\n",
    "model.fit(features,classes)\n",
    "plotTree()"
   ]
  }
 ],
 "metadata": {
  "kernelspec": {
   "display_name": "Python 3",
   "language": "python",
   "name": "python3"
  },
  "language_info": {
   "codemirror_mode": {
    "name": "ipython",
    "version": 3
   },
   "file_extension": ".py",
   "mimetype": "text/x-python",
   "name": "python",
   "nbconvert_exporter": "python",
   "pygments_lexer": "ipython3",
   "version": "3.6.1"
  }
 },
 "nbformat": 4,
 "nbformat_minor": 2
}
